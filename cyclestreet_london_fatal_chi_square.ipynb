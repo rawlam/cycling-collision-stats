{
 "cells": [
  {
   "cell_type": "code",
   "execution_count": 1,
   "id": "7040601c",
   "metadata": {},
   "outputs": [],
   "source": [
    "import numpy as np\n",
    "import pandas as pd"
   ]
  },
  {
   "cell_type": "code",
   "execution_count": 2,
   "id": "ce7ca007",
   "metadata": {},
   "outputs": [],
   "source": [
    "# The statistical module used to run chi square test\n",
    "import scipy.stats as stats"
   ]
  },
  {
   "cell_type": "code",
   "execution_count": 4,
   "id": "f4a45206",
   "metadata": {},
   "outputs": [
    {
     "data": {
      "text/html": [
       "<div>\n",
       "<style scoped>\n",
       "    .dataframe tbody tr th:only-of-type {\n",
       "        vertical-align: middle;\n",
       "    }\n",
       "\n",
       "    .dataframe tbody tr th {\n",
       "        vertical-align: top;\n",
       "    }\n",
       "\n",
       "    .dataframe thead th {\n",
       "        text-align: right;\n",
       "    }\n",
       "</style>\n",
       "<table border=\"1\" class=\"dataframe\">\n",
       "  <thead>\n",
       "    <tr style=\"text-align: right;\">\n",
       "      <th></th>\n",
       "      <th>Unnamed: 0</th>\n",
       "      <th>type</th>\n",
       "      <th>ID</th>\n",
       "      <th>Date&amp;Time</th>\n",
       "      <th>Severity</th>\n",
       "      <th>Casualties</th>\n",
       "      <th># of Casualties</th>\n",
       "      <th># of Vehicles</th>\n",
       "      <th>Latitude</th>\n",
       "      <th>Longitude</th>\n",
       "      <th>Coordinates</th>\n",
       "    </tr>\n",
       "  </thead>\n",
       "  <tbody>\n",
       "    <tr>\n",
       "      <th>0</th>\n",
       "      <td>0</td>\n",
       "      <td>Feature</td>\n",
       "      <td>199901AB00008</td>\n",
       "      <td>5:15pm, 7th January 1999</td>\n",
       "      <td>serious</td>\n",
       "      <td>Cyclist</td>\n",
       "      <td>1</td>\n",
       "      <td>1</td>\n",
       "      <td>51.496219</td>\n",
       "      <td>-0.134989</td>\n",
       "      <td>[-0.134989, 51.496208]</td>\n",
       "    </tr>\n",
       "    <tr>\n",
       "      <th>1</th>\n",
       "      <td>1</td>\n",
       "      <td>Feature</td>\n",
       "      <td>199901AB00018</td>\n",
       "      <td>9:20am, 11th January 1999</td>\n",
       "      <td>slight</td>\n",
       "      <td>Cyclist</td>\n",
       "      <td>1</td>\n",
       "      <td>2</td>\n",
       "      <td>51.489624</td>\n",
       "      <td>-0.127480</td>\n",
       "      <td>[-0.127474, 51.489641]</td>\n",
       "    </tr>\n",
       "    <tr>\n",
       "      <th>2</th>\n",
       "      <td>2</td>\n",
       "      <td>Feature</td>\n",
       "      <td>199901AB00019</td>\n",
       "      <td>3:00pm, 12th January 1999</td>\n",
       "      <td>slight</td>\n",
       "      <td>Cyclist</td>\n",
       "      <td>1</td>\n",
       "      <td>2</td>\n",
       "      <td>51.489951</td>\n",
       "      <td>-0.148065</td>\n",
       "      <td>[-0.14809, 51.489926]</td>\n",
       "    </tr>\n",
       "    <tr>\n",
       "      <th>3</th>\n",
       "      <td>3</td>\n",
       "      <td>Feature</td>\n",
       "      <td>199901AB00021</td>\n",
       "      <td>11:00am, 9th January 1999</td>\n",
       "      <td>slight</td>\n",
       "      <td>Cyclist</td>\n",
       "      <td>1</td>\n",
       "      <td>2</td>\n",
       "      <td>51.490698</td>\n",
       "      <td>-0.149764</td>\n",
       "      <td>[-0.14978, 51.49069]</td>\n",
       "    </tr>\n",
       "    <tr>\n",
       "      <th>4</th>\n",
       "      <td>4</td>\n",
       "      <td>Feature</td>\n",
       "      <td>199901AB00023</td>\n",
       "      <td>8:12pm, 19th January 1999</td>\n",
       "      <td>slight</td>\n",
       "      <td>Cyclist</td>\n",
       "      <td>1</td>\n",
       "      <td>2</td>\n",
       "      <td>51.494715</td>\n",
       "      <td>-0.125254</td>\n",
       "      <td>[-0.125271, 51.494692]</td>\n",
       "    </tr>\n",
       "  </tbody>\n",
       "</table>\n",
       "</div>"
      ],
      "text/plain": [
       "   Unnamed: 0     type             ID                  Date&Time Severity  \\\n",
       "0           0  Feature  199901AB00008   5:15pm, 7th January 1999  serious   \n",
       "1           1  Feature  199901AB00018  9:20am, 11th January 1999   slight   \n",
       "2           2  Feature  199901AB00019  3:00pm, 12th January 1999   slight   \n",
       "3           3  Feature  199901AB00021  11:00am, 9th January 1999   slight   \n",
       "4           4  Feature  199901AB00023  8:12pm, 19th January 1999   slight   \n",
       "\n",
       "  Casualties  # of Casualties  # of Vehicles   Latitude  Longitude  \\\n",
       "0    Cyclist                1              1  51.496219  -0.134989   \n",
       "1    Cyclist                1              2  51.489624  -0.127480   \n",
       "2    Cyclist                1              2  51.489951  -0.148065   \n",
       "3    Cyclist                1              2  51.490698  -0.149764   \n",
       "4    Cyclist                1              2  51.494715  -0.125254   \n",
       "\n",
       "              Coordinates  \n",
       "0  [-0.134989, 51.496208]  \n",
       "1  [-0.127474, 51.489641]  \n",
       "2   [-0.14809, 51.489926]  \n",
       "3    [-0.14978, 51.49069]  \n",
       "4  [-0.125271, 51.494692]  "
      ]
     },
     "execution_count": 4,
     "metadata": {},
     "output_type": "execute_result"
    }
   ],
   "source": [
    "# Read csv file\n",
    "cycle_df = pd.read_csv(\"output_data/cyclingstreets_central_london.csv\")\n",
    "\n",
    "# Display data\n",
    "cycle_df.head()"
   ]
  },
  {
   "cell_type": "code",
   "execution_count": 7,
   "id": "8440fa11",
   "metadata": {},
   "outputs": [
    {
     "name": "stdout",
     "output_type": "stream",
     "text": [
      "24442 3957 107\n"
     ]
    },
    {
     "data": {
      "text/plain": [
       "28506"
      ]
     },
     "execution_count": 7,
     "metadata": {},
     "output_type": "execute_result"
    }
   ],
   "source": [
    "a = len(cycle_df.loc[cycle_df['Severity'] == \"slight\"])\n",
    "b = len(cycle_df.loc[cycle_df['Severity'] == \"serious\"])\n",
    "c = len(cycle_df.loc[cycle_df['Severity'] == \"fatal\"])\n",
    "print(a,b,c)\n",
    "len(cycle_df)"
   ]
  },
  {
   "cell_type": "code",
   "execution_count": 8,
   "id": "de934342",
   "metadata": {},
   "outputs": [],
   "source": [
    "# Observed data in a (hypothetical) survey of 300 people \n",
    "observed = pd.Series([a,b,c], index=[\"slight\", \"serious\", \"fatal\"])"
   ]
  },
  {
   "cell_type": "code",
   "execution_count": 9,
   "id": "139b83cd",
   "metadata": {},
   "outputs": [],
   "source": [
    "# Create a data frame\n",
    "df = pd.DataFrame([observed]).T"
   ]
  },
  {
   "cell_type": "code",
   "execution_count": 10,
   "id": "28ac3d36",
   "metadata": {},
   "outputs": [],
   "source": [
    "# Add a column whose default values are the expected values\n",
    "df[1] = 9502"
   ]
  },
  {
   "cell_type": "code",
   "execution_count": 11,
   "id": "dd713e2d",
   "metadata": {},
   "outputs": [],
   "source": [
    "# Rename columns\n",
    "df.columns = [\"observed\", \"expected\"]"
   ]
  },
  {
   "cell_type": "code",
   "execution_count": 12,
   "id": "aa12f2d3",
   "metadata": {},
   "outputs": [
    {
     "data": {
      "text/html": [
       "<div>\n",
       "<style scoped>\n",
       "    .dataframe tbody tr th:only-of-type {\n",
       "        vertical-align: middle;\n",
       "    }\n",
       "\n",
       "    .dataframe tbody tr th {\n",
       "        vertical-align: top;\n",
       "    }\n",
       "\n",
       "    .dataframe thead th {\n",
       "        text-align: right;\n",
       "    }\n",
       "</style>\n",
       "<table border=\"1\" class=\"dataframe\">\n",
       "  <thead>\n",
       "    <tr style=\"text-align: right;\">\n",
       "      <th></th>\n",
       "      <th>observed</th>\n",
       "      <th>expected</th>\n",
       "    </tr>\n",
       "  </thead>\n",
       "  <tbody>\n",
       "    <tr>\n",
       "      <th>slight</th>\n",
       "      <td>24442</td>\n",
       "      <td>9502</td>\n",
       "    </tr>\n",
       "    <tr>\n",
       "      <th>serious</th>\n",
       "      <td>3957</td>\n",
       "      <td>9502</td>\n",
       "    </tr>\n",
       "    <tr>\n",
       "      <th>fatal</th>\n",
       "      <td>107</td>\n",
       "      <td>9502</td>\n",
       "    </tr>\n",
       "  </tbody>\n",
       "</table>\n",
       "</div>"
      ],
      "text/plain": [
       "         observed  expected\n",
       "slight      24442      9502\n",
       "serious      3957      9502\n",
       "fatal         107      9502"
      ]
     },
     "execution_count": 12,
     "metadata": {},
     "output_type": "execute_result"
    }
   ],
   "source": [
    "# View the data frame\n",
    "df"
   ]
  },
  {
   "cell_type": "code",
   "execution_count": 13,
   "id": "2c53f57e",
   "metadata": {},
   "outputs": [],
   "source": [
    "# The degree of freedom is 3-1 = 2\n",
    "# With a p-value of 0.05, the confidence level is 1.00-0.05 = 0.95.\n",
    "critical_value = stats.chi2.ppf(q = 0.95, df = 2)"
   ]
  },
  {
   "cell_type": "code",
   "execution_count": 14,
   "id": "758d0e18",
   "metadata": {},
   "outputs": [
    {
     "data": {
      "text/plain": [
       "5.991464547107979"
      ]
     },
     "execution_count": 14,
     "metadata": {},
     "output_type": "execute_result"
    }
   ],
   "source": [
    "# The critical value\n",
    "critical_value"
   ]
  },
  {
   "cell_type": "code",
   "execution_count": 15,
   "id": "0d6ccb90",
   "metadata": {},
   "outputs": [
    {
     "data": {
      "text/plain": [
       "Power_divergenceResult(statistic=36015.22311092402, pvalue=0.0)"
      ]
     },
     "execution_count": 15,
     "metadata": {},
     "output_type": "execute_result"
    }
   ],
   "source": [
    "# Run the chi square test with stats.chisquare()\n",
    "stats.chisquare(df['observed'], df['expected'])"
   ]
  },
  {
   "cell_type": "markdown",
   "id": "a7bba38f",
   "metadata": {},
   "source": [
    "## Conclusion"
   ]
  },
  {
   "cell_type": "markdown",
   "id": "4ed21d3d",
   "metadata": {},
   "source": [
    "Since the chi square value of 36015.22 exceeds the critical value of 5.99, we conclude that the results are statistically significant."
   ]
  },
  {
   "cell_type": "code",
   "execution_count": null,
   "id": "2a420509",
   "metadata": {},
   "outputs": [],
   "source": []
  }
 ],
 "metadata": {
  "kernelspec": {
   "display_name": "Python 3 (ipykernel)",
   "language": "python",
   "name": "python3"
  },
  "language_info": {
   "codemirror_mode": {
    "name": "ipython",
    "version": 3
   },
   "file_extension": ".py",
   "mimetype": "text/x-python",
   "name": "python",
   "nbconvert_exporter": "python",
   "pygments_lexer": "ipython3",
   "version": "3.7.7"
  }
 },
 "nbformat": 4,
 "nbformat_minor": 5
}
